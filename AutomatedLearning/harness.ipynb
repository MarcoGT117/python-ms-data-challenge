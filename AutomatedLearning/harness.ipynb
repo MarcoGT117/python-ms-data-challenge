{
 "cells": [
  {
   "cell_type": "code",
   "execution_count": null,
   "metadata": {},
   "outputs": [],
   "source": [
    "import pandas\n",
    "!wget https://raw.githubusercontent.com/MicrosoftDocs/mslearn-introduction-to-machine-learning/main/graphing.py\n",
    "!wget https://raw.githubusercontent.com/MicrosoftDocs/mslearn-introduction-to-machine-learning/main/Data/doggy-boot-harness.csv\n",
    "!pip install statsmodels\n",
    "\n",
    "\n",
    "# Make a dictionary of data for boot sizes\n",
    "# and harness size in cm\n",
    "data = {\n",
    "    'boot_size' : [ 39, 38, 37, 39, 38, 35, 37, 36, 35, 40, \n",
    "                    40, 36, 38, 39, 42, 42, 36, 36, 35, 41, \n",
    "                    42, 38, 37, 35, 40, 36, 35, 39, 41, 37, \n",
    "                    35, 41, 39, 41, 42, 42, 36, 37, 37, 39,\n",
    "                    42, 35, 36, 41, 41, 41, 39, 39, 35, 39\n",
    " ],\n",
    "    'harness_size': [ 58, 58, 52, 58, 57, 52, 55, 53, 49, 54,\n",
    "                59, 56, 53, 58, 57, 58, 56, 51, 50, 59,\n",
    "                59, 59, 55, 50, 55, 52, 53, 54, 61, 56,\n",
    "                55, 60, 57, 56, 61, 58, 53, 57, 57, 55,\n",
    "                60, 51, 52, 56, 55, 57, 58, 57, 51, 59\n",
    "                ]\n",
    "}\n",
    "\n",
    "# Convert it into a table using pandas\n",
    "dataset = pandas.DataFrame(data)\n",
    "\n",
    "# Print the data\n",
    "# In normal python we would write\n",
    "# print(dataset)\n",
    "# but in Jupyter notebooks, if we simple write the name\n",
    "# of the variable and it is printed nicely \n",
    "dataset"
   ]
  },
  {
   "cell_type": "code",
   "execution_count": null,
   "metadata": {},
   "outputs": [],
   "source": [
    "# Load a library to do the hard work for us\n",
    "import statsmodels.formula.api as smf\n",
    "\n",
    "# First, we define our formula using a special syntax\n",
    "# This says that boot_size is explained by harness_size\n",
    "formula = \"boot_size ~ harness_size\"\n",
    "\n",
    "# Create the model, but don't train it yet\n",
    "model = smf.ols(formula = formula, data = dataset)\n",
    "\n",
    "# Note that we have created our model but it does not \n",
    "# have internal parameters set yet\n",
    "if not hasattr(model, 'params'):\n",
    "    print(\"Model selected but it does not have parameters set. We need to train it!\")"
   ]
  },
  {
   "cell_type": "code",
   "execution_count": null,
   "metadata": {},
   "outputs": [],
   "source": [
    "# Load some libraries to do the hard work for us\n",
    "import graphing \n",
    "\n",
    "# Train (fit) the model so that it creates a line that \n",
    "# fits our data. This method does the hard work for\n",
    "# us. We will look at how this method works in a later unit.\n",
    "fitted_model = model.fit()\n",
    "\n",
    "# Print information about our model now it has been fit\n",
    "print(\"The following model parameters have been found:\\n\" +\n",
    "        f\"Line slope: {fitted_model.params[1]}\\n\"+\n",
    "        f\"Line Intercept: {fitted_model.params[0]}\")"
   ]
  },
  {
   "cell_type": "code",
   "execution_count": null,
   "metadata": {},
   "outputs": [],
   "source": [
    "import graphing\n",
    "\n",
    "# Show a graph of the result\n",
    "# Don't worry about how this works for now\n",
    "graphing.scatter_2D(dataset,    label_x=\"harness_size\", \n",
    "                                label_y=\"boot_size\",\n",
    "                                trendline=lambda x: fitted_model.params[1] * x + fitted_model.params[0]\n",
    "                                )"
   ]
  },
  {
   "cell_type": "code",
   "execution_count": null,
   "metadata": {},
   "outputs": [],
   "source": [
    "# harness_size states the size of the harness we are interested in\n",
    "harness_size = { 'harness_size' : [52.5] }\n",
    "\n",
    "# Use the model to predict what size of boots the dog will fit\n",
    "approximate_boot_size = fitted_model.predict(harness_size)\n",
    "\n",
    "# Print the result\n",
    "print(\"Estimated approximate_boot_size:\")\n",
    "print(approximate_boot_size[0])"
   ]
  }
 ],
 "metadata": {
  "language_info": {
   "name": "python"
  },
  "orig_nbformat": 4
 },
 "nbformat": 4,
 "nbformat_minor": 2
}
